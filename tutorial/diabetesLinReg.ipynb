{
 "cells": [
  {
   "cell_type": "code",
   "execution_count": 10,
   "metadata": {},
   "outputs": [
    {
     "name": "stdout",
     "output_type": "stream",
     "text": [
      "Coefficients:\\ n [938.23786125]\n",
      "Mean squared error : 2548.07\n",
      " Coeff of determination : 0.47\n"
     ]
    },
    {
     "data": {
      "image/png": "[encoded data removed]",
      "text/plain": [
       "<Figure size 432x288 with 1 Axes>"
      ]
     },
     "metadata": {
      "needs_background": "light"
     },
     "output_type": "display_data"
    }
   ],
   "source": [
    "import matplotlib.pyplot as plt\n",
    "import numpy as np\n",
    "from sklearn import datasets, linear_model\n",
    "from sklearn.metrics import mean_squared_error, r2_score\n",
    "\n",
    "diabetes_X, diabetes_Y = datasets.load_diabetes(return_X_y=True)\n",
    "\n",
    "#user only one feature ====> c'est lineaire\n",
    "diabetes_X = diabetes_X[:, np.newaxis,2]\n",
    "\n",
    "#split the data into train / test sets\n",
    "diabetes_X_train = diabetes_X[:-20]\n",
    "diabetes_X_test = diabetes_X[-20:]\n",
    "\n",
    "#target data \n",
    "diabtes_y_train = diabetes_Y[:-20]\n",
    "diabetes_y_test = diabetes_Y[-20:]\n",
    "\n",
    "\n",
    "# create linear reg obj\n",
    "reg_lin = linear_model.LinearRegression()\n",
    "\n",
    "#train the model using the training sets\n",
    "reg_lin.fit(diabetes_X_train, diabtes_y_train)\n",
    "\n",
    "#make predictions using the testing set\n",
    "diabete_y_pred = reg_lin.predict(diabetes_X_test)\n",
    "\n",
    "#the coeffcients\n",
    "print('Coefficients:\\ n', reg_lin.coef_)\n",
    "\n",
    "#Mean squared error \n",
    "print('Mean squared error : %.2f'\n",
    "       % mean_squared_error(diabetes_y_test, diabete_y_pred))\n",
    "\n",
    "#Le coefficiant de determination\n",
    "print(' Coeff of determination : %.2f'\n",
    "       % r2_score(diabetes_y_test, diabete_y_pred))\n",
    "\n",
    "# Les plots\n",
    "\n",
    "plt.scatter(diabetes_X_test, diabetes_y_test, color='black')\n",
    "plt.plot(diabetes_X_test, diabete_y_pred, color='blue', linewidth=3)\n",
    "\n",
    "plt.xticks()\n",
    "plt.yticks()\n",
    "\n",
    "plt.show()\n",
    "\n",
    "\n"
   ]
  },
  {
   "cell_type": "code",
   "execution_count": null,
   "metadata": {},
   "outputs": [],
   "source": []
  }
 ],
 "metadata": {
  "kernelspec": {
   "display_name": "Python 3",
   "language": "python",
   "name": "python3"
  },
  "language_info": {
   "codemirror_mode": {
    "name": "ipython",
    "version": 3
   },
   "file_extension": ".py",
   "mimetype": "text/x-python",
   "name": "python",
   "nbconvert_exporter": "python",
   "pygments_lexer": "ipython3",
   "version": "3.7.6"
  }
 },
 "nbformat": 4,
 "nbformat_minor": 4
}
